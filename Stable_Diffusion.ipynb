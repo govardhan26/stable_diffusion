{
  "cells": [
    {
      "cell_type": "markdown",
      "metadata": {
        "id": "view-in-github",
        "colab_type": "text"
      },
      "source": [
        "<a href=\"https://colab.research.google.com/github/govardhan26/stable_diffusion/blob/main/Stable_Diffusion.ipynb\" target=\"_parent\"><img src=\"https://colab.research.google.com/assets/colab-badge.svg\" alt=\"Open In Colab\"/></a>"
      ]
    },
    {
      "cell_type": "markdown",
      "metadata": {
        "id": "ycYWcsEKc6w7"
      },
      "source": [
        "# Stable Diffusion AI Notebook (Release 1.14)\n",
        "\n"
      ]
    },
    {
      "cell_type": "code",
      "execution_count": null,
      "metadata": {
        "id": "a2Z5Qu_o8VtQ"
      },
      "outputs": [],
      "source": [
        "#@title 1. Check current GPU assigned\n",
        "!nvidia-smi -L\n",
        "!nvidia-smi"
      ]
    },
    {
      "cell_type": "code",
      "execution_count": null,
      "metadata": {
        "id": "vbI9ZsQHzjqF"
      },
      "outputs": [],
      "source": [
        "#@title 2. Download stable-diffusion Repository\n",
        "from os.path import exists\n",
        "\n",
        "!git clone --quiet https://github.com/invoke-ai/InvokeAI.git # Original repo\n",
        "!dir\n",
        "%cd /content\n",
        "!dir\n",
        "%cd InvokeAI/\n",
        "!dir\n",
        "!git checkout --quiet tags/release-1.14.1"
      ]
    },
    {
      "cell_type": "code",
      "execution_count": null,
      "metadata": {
        "id": "QbXcGXYEFSNB"
      },
      "outputs": [],
      "source": [
        "#@title 3. Install dependencies\n",
        "import gc\n",
        "\n",
        "!wget https://raw.githubusercontent.com/invoke-ai/InvokeAI/development/requirements.txt\n",
        "!wget https://raw.githubusercontent.com/invoke-ai/InvokeAI/development/requirements-lin-win-colab-CUDA.txt\n",
        "!pip install colab-xterm\n",
        "!pip install -r requirements-lin-win-colab-CUDA.txt\n",
        "!pip install clean-fid torchtext\n",
        "gc.collect()"
      ]
    },
    {
      "cell_type": "code",
      "execution_count": null,
      "metadata": {
        "id": "8rSMhgnAttQa"
      },
      "outputs": [],
      "source": [
        "#@title 4. Restart Runtime\n",
        "exit()"
      ]
    },
    {
      "cell_type": "code",
      "source": [
        "%cd content\n",
        "!dir"
      ],
      "metadata": {
        "id": "q3IPe__i3VoV"
      },
      "execution_count": null,
      "outputs": []
    },
    {
      "cell_type": "code",
      "execution_count": null,
      "metadata": {
        "id": "ChIDWxLVHGGJ"
      },
      "outputs": [],
      "source": [
        "#@title 5. Load small ML models required\n",
        "import gc\n",
        "%cd /content/InvokeAI/\n",
        "!python scripts/preload_models.py\n",
        "gc.collect()"
      ]
    },
    {
      "cell_type": "markdown",
      "metadata": {
        "id": "795x1tMoo8b1"
      },
      "source": [
        "## ◢ Configuration"
      ]
    },
    {
      "cell_type": "code",
      "execution_count": null,
      "metadata": {
        "id": "YEWPV-sF1RDM"
      },
      "outputs": [],
      "source": [
        "#@title 6. Mount google Drive\n",
        "from google.colab import drive\n",
        "drive.mount('/content/drive')"
      ]
    },
    {
      "cell_type": "code",
      "source": [],
      "metadata": {
        "id": "vj0mToB_4T-g"
      },
      "execution_count": null,
      "outputs": []
    },
    {
      "cell_type": "code",
      "execution_count": null,
      "metadata": {
        "id": "zRTJeZ461WGu"
      },
      "outputs": [],
      "source": [
        "from os.path import exists\n",
        "\n",
        "model_path = \"/content/drive/MyDrive/sd-v1-4.ckpt\" #@param {type:\"string\"}\n",
        "if exists(model_path):\n",
        "    print(\"✅ Valid directory\")\n",
        "else: \n",
        "    print(\"❌ File doesn't exist\")"
      ]
    },
    {
      "cell_type": "code",
      "source": [
        "!dir"
      ],
      "metadata": {
        "id": "RLVYJmefElBI"
      },
      "execution_count": null,
      "outputs": []
    },
    {
      "cell_type": "code",
      "execution_count": null,
      "metadata": {
        "id": "UY-NNz4I8_aG"
      },
      "outputs": [],
      "source": [
        "#@title 8. Symlink to model\n",
        "\n",
        "from os.path import exists\n",
        "import os \n",
        "\n",
        "# Folder creation if it doesn't exist\n",
        "if exists(\"/content/InvokeAI/models/ldm/stable-diffusion-v1\"):\n",
        "     print(\"❗ Dir stable-diffusion-v1 already exists\")\n",
        "else:\n",
        "    %mkdir /content/InvokeAI/models/ldm/stable-diffusion-v1\n",
        "    print(\"✅ Dir stable-diffusion-v1 created\")\n",
        "\n",
        "# Symbolic link if it doesn't exist\n",
        "if exists(\"/content/InvokeAI/models/ldm/stable-diffusion-v1/model.ckpt\"):\n",
        "    print(\"❗ Symlink already created\")\n",
        "else: \n",
        "    src = model_path\n",
        "    dst = '/content/InvokeAI/models/ldm/stable-diffusion-v1/model.ckpt'\n",
        "    os.symlink(src, dst) \n",
        "    print(\"✅ Symbolic link created successfully\")"
      ]
    },
    {
      "cell_type": "code",
      "source": [],
      "metadata": {
        "id": "r1GlbjLpEqKZ"
      },
      "execution_count": null,
      "outputs": []
    },
    {
      "cell_type": "markdown",
      "metadata": {
        "id": "Mc28N0_NrCQH"
      },
      "source": [
        "## ◢ Execution"
      ]
    },
    {
      "cell_type": "code",
      "execution_count": null,
      "metadata": {
        "id": "ir4hCrMIuUpl"
      },
      "outputs": [],
      "source": [
        "\n",
        "%load_ext colabxterm\n",
        "%xterm\n",
        "gc.collect()"
      ]
    },
    {
      "cell_type": "code",
      "execution_count": null,
      "metadata": {
        "id": "qnLohSHmKoGk"
      },
      "outputs": [],
      "source": [
        "#@title 10. Show the last 15 generated images\n",
        "import glob\n",
        "import matplotlib.pyplot as plt\n",
        "import matplotlib.image as mpimg\n",
        "%matplotlib inline\n",
        "\n",
        "images = []\n",
        "for img_path in sorted(glob.glob('/content/InvokeAI/outputs/img-samples/*.png'), reverse=True):\n",
        "    images.append(mpimg.imread(img_path))\n",
        "\n",
        "images = images[:15] \n",
        "\n",
        "plt.figure(figsize=(20,10))\n",
        "\n",
        "columns = 5\n",
        "for i, image in enumerate(images):\n",
        "    ax = plt.subplot(len(images) / columns + 1, columns, i + 1)\n",
        "    ax.axes.xaxis.set_visible(False)\n",
        "    ax.axes.yaxis.set_visible(False)\n",
        "    ax.axis('off')\n",
        "    plt.imshow(image)\n",
        "    gc.collect()\n",
        "\n"
      ]
    },
    {
      "cell_type": "code",
      "source": [],
      "metadata": {
        "id": "jHcxlyJoIDav"
      },
      "execution_count": null,
      "outputs": []
    }
  ],
  "metadata": {
    "accelerator": "GPU",
    "colab": {
      "collapsed_sections": [],
      "private_outputs": true,
      "provenance": [],
      "include_colab_link": true
    },
    "gpuClass": "standard",
    "kernelspec": {
      "display_name": "Python 3",
      "name": "python3"
    },
    "language_info": {
      "name": "python"
    }
  },
  "nbformat": 4,
  "nbformat_minor": 0
}